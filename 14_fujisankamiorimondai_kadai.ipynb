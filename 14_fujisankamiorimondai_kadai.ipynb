{
 "cells": [
  {
   "cell_type": "code",
   "execution_count": 1,
   "id": "e733a65d",
   "metadata": {},
   "outputs": [
    {
     "name": "stdout",
     "output_type": "stream",
     "text": [
      "厚さが富士山の高さを超えるのに必要な紙を折る最小回数: 26\n"
     ]
    }
   ],
   "source": [
    "#問題1\n",
    "#厚さが富士山の高さ(3776m)を超えるのに必要な紙を折る最小回数を計算するプログラム\n",
    "MOUNT_FUJI = 3776 #富士山の高さ\n",
    "THICKNESS = 0.00008 #紙を折る前の厚さ\n",
    "height_3776 = THICKNESS  \n",
    "num = 0 #厚さが富士山の高さを超えるのに必要な紙を折る最小回数\n",
    "while height_3776 <= MOUNT_FUJI:\n",
    "    height_3776 *= 2\n",
    "    num += 1\n",
    "print(\"厚さが富士山の高さを超えるのに必要な紙を折る最小回数: {}\".format(num))"
   ]
  },
  {
   "cell_type": "code",
   "execution_count": 5,
   "id": "10e7013a",
   "metadata": {},
   "outputs": [
    {
     "data": {
      "text/plain": [
       "'プロキシマ・ケンタウリを超えるのに必要な紙を折る最小回数: 56'"
      ]
     },
     "execution_count": 5,
     "metadata": {},
     "output_type": "execute_result"
    }
   ],
   "source": [
    "#問題2\n",
    "#thickness、heightの単位は必ず統一すること\n",
    "PROXIMA_CENTAURI = 4.0175*(10**16)\n",
    "\n",
    "def minimum_number_of_folds(thickness, height, height_name):\n",
    "    \"\"\"\n",
    "    高さを入力すると、それを超えるのに必要な紙を折る最小回数を出力する\n",
    "    Prameters:\n",
    "    ----------\n",
    "    thickness : float\n",
    "        折る前の紙の厚さ\n",
    "    height : float\n",
    "        越えなければならない高さ\n",
    "    height_name : str\n",
    "        越えなければならない高さの名称\n",
    "    height_need : float\n",
    "        heightを超えるのに必要な高さ\n",
    "    num : int\n",
    "        heightを超えるのに必要な紙を折る最小回数\n",
    "    \n",
    "    Returns:\n",
    "    ---------\n",
    "    \n",
    "    \"\"\"\n",
    "    height_need = thickness\n",
    "    num = 0\n",
    "    while height_need <= height:\n",
    "        height_need *= 2\n",
    "        num += 1\n",
    "    return \"{}を超えるのに必要な紙を折る最小回数: {}\".format(height_name, num)\n",
    "#”最も近い太陽以外の恒星”である”プロキシマ・ケンタウリ”に到達するには紙を何回折る必要があるか計算する\n",
    "minimum_number_of_folds(1, PROXIMA_CENTAURI, \"プロキシマ・ケンタウリ\")"
   ]
  },
  {
   "cell_type": "code",
   "execution_count": 4,
   "id": "cae73684",
   "metadata": {},
   "outputs": [
    {
     "name": "stdout",
     "output_type": "stream",
     "text": [
      "月に到達するのに必要な紙の長さ: 3240919444170781184km\n",
      "富士山に到達するのに必要な紙の長さ: 188646348km\n",
      "プロキシマ・ケンタウリに到達するのに必要な紙の長さ: 14595803601100346839891623748304896km\n"
     ]
    }
   ],
   "source": [
    "#問題3\n",
    "#”月”、”富士山”、”最も近い太陽以外の恒星”に届くために必要な紙の長さを求める\n",
    "#単位mで統一\n",
    "import math\n",
    "THICKNESS = 0.00008 #折る前の紙の厚さ\n",
    "MOON = 3.844 * (10**8)\n",
    "MOUNT_FUJI = 3776\n",
    "PROXIMA_CENTAURI = 4.0175*(10**16)\n",
    "\n",
    "def length_of_paper_required(height, name):\n",
    "    \"\"\"\n",
    "    実際に紙を折り任意の厚さに到達するために必要な紙の長さを求める関数\n",
    "    Parameters:\n",
    "    -----------\n",
    "    height : float\n",
    "        越えなければならない高さ\n",
    "    name : str\n",
    "        越えなければならない高さの名前\n",
    "    num : int\n",
    "        heightを超えるのに必要な紙を折る最小回数\n",
    "    height_need : float\n",
    "        heightを超えるのに必要な高さ\n",
    "    long_paper_need : float\n",
    "        必要な紙の長さ\n",
    "    \n",
    "    Returns:\n",
    "    -----------\n",
    "    \n",
    "    \"\"\"\n",
    "    num = 0\n",
    "    height_need = THICKNESS\n",
    "    while height_need <= height:\n",
    "        height_need *= 2\n",
    "        num += 1\n",
    "    long_paper_need = ((math.pi)*THICKNESS/6) * ((2**num)+4) * ((2**num)-1)\n",
    "    return \"{}に到達するのに必要な紙の長さ: {:.0f}km\".format(name, long_paper_need / 1000)\n",
    "print(length_of_paper_required(MOON, \"月\"))\n",
    "print(length_of_paper_required(MOUNT_FUJI, \"富士山\"))\n",
    "print(length_of_paper_required(PROXIMA_CENTAURI, \"プロキシマ・ケンタウリ\"))"
   ]
  },
  {
   "cell_type": "code",
   "execution_count": null,
   "id": "172c72e5",
   "metadata": {},
   "outputs": [],
   "source": []
  }
 ],
 "metadata": {
  "kernelspec": {
   "display_name": "Python 3 (ipykernel)",
   "language": "python",
   "name": "python3"
  },
  "language_info": {
   "codemirror_mode": {
    "name": "ipython",
    "version": 3
   },
   "file_extension": ".py",
   "mimetype": "text/x-python",
   "name": "python",
   "nbconvert_exporter": "python",
   "pygments_lexer": "ipython3",
   "version": "3.8.13"
  }
 },
 "nbformat": 4,
 "nbformat_minor": 5
}
